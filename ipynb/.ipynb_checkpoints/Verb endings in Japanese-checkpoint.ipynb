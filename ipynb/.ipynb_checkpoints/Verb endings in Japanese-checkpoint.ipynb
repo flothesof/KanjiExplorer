{
 "metadata": {
  "name": ""
 },
 "nbformat": 3,
 "nbformat_minor": 0,
 "worksheets": [
  {
   "cells": [
    {
     "cell_type": "markdown",
     "metadata": {},
     "source": [
      "According to Tae Kim's guide to Japanese grammar and [its introduction to Japanese verbs](http://www.guidetojapanese.org/learn/grammar/verbs), the following holds true:\n",
      "\n",
      "> All ru-verbs end in \u300c\u308b\u300d while u-verbs can end in a number of u-vowel sounds including \u300c\u308b\u300d. Therefore, if a verb does not end in \u300c\u308b\u300d, it will always be an u-verb. For verbs ending in \u300c\u308b\u300d, if the vowel sound preceding the \u300c\u308b\u300d is an /a/, /u/ or /o/ vowel sound, it will always be an u-verb. Otherwise, if the preceding sound is an /i/ or /e/ vowel sound, it will be a ru-verb in most cases. A list of common exceptions are at the end of this section.\n",
      "\n",
      "In this exploration, we're going to verify this description and try to find the statistics (i.e. the percentages for the different categories).\n",
      "\n",
      "The first step to achieve this aim is to read the dictionary and browse it for verbs. As a sample file, we're using an extract of the JMdict that contains only one verb."
     ]
    },
    {
     "cell_type": "code",
     "collapsed": false,
     "input": [
      "import xml.etree.cElementTree as ET"
     ],
     "language": "python",
     "metadata": {},
     "outputs": [],
     "prompt_number": 4
    },
    {
     "cell_type": "code",
     "collapsed": false,
     "input": [
      "tree = ET.ElementTree(file='./JMdict_example.xml')\n",
      "tree"
     ],
     "language": "python",
     "metadata": {},
     "outputs": [
      {
       "metadata": {},
       "output_type": "pyout",
       "prompt_number": 5,
       "text": [
        "<ElementTree at 0xb00528c>"
       ]
      }
     ],
     "prompt_number": 5
    },
    {
     "cell_type": "code",
     "collapsed": false,
     "input": [
      "root = tree.getroot()\n",
      "root"
     ],
     "language": "python",
     "metadata": {},
     "outputs": [
      {
       "metadata": {},
       "output_type": "pyout",
       "prompt_number": 7,
       "text": [
        "<Element 'entry' at 0xb001668>"
       ]
      }
     ],
     "prompt_number": 7
    },
    {
     "cell_type": "code",
     "collapsed": false,
     "input": [
      "for elem in root:\n",
      "    print elem"
     ],
     "language": "python",
     "metadata": {},
     "outputs": [
      {
       "output_type": "stream",
       "stream": "stdout",
       "text": [
        "<Element 'ent_seq' at 0xb0017e8>\n",
        "<Element 'k_ele' at 0xb0016c8>\n",
        "<Element 'r_ele' at 0xb001890>\n",
        "<Element 'sense' at 0xb001980>\n",
        "<Element 'sense' at 0xb001b60>\n"
       ]
      }
     ],
     "prompt_number": 11
    },
    {
     "cell_type": "code",
     "collapsed": false,
     "input": [
      "print root.find('r_ele/reb').text"
     ],
     "language": "python",
     "metadata": {},
     "outputs": [
      {
       "output_type": "stream",
       "stream": "stdout",
       "text": [
        "\u3046\u3088\u304f\n"
       ]
      }
     ],
     "prompt_number": 13
    },
    {
     "cell_type": "code",
     "collapsed": false,
     "input": [
      "print [elem.text for elem in root.findall('sense/pos')]"
     ],
     "language": "python",
     "metadata": {},
     "outputs": [
      {
       "output_type": "stream",
       "stream": "stdout",
       "text": [
        "['adj-no;', 'n;']\n"
       ]
      }
     ],
     "prompt_number": 21
    },
    {
     "cell_type": "markdown",
     "metadata": {},
     "source": [
      "We can now define some functions:"
     ]
    },
    {
     "cell_type": "code",
     "collapsed": false,
     "input": [
      "def extract_information(elem):\n",
      "    return (elem.find('r_ele/reb').text,\n",
      "            [sense.text for sense in elem.findall('sense/pos')])"
     ],
     "language": "python",
     "metadata": {},
     "outputs": [],
     "prompt_number": 22
    },
    {
     "cell_type": "code",
     "collapsed": false,
     "input": [
      "extract_information(root)"
     ],
     "language": "python",
     "metadata": {},
     "outputs": [
      {
       "metadata": {},
       "output_type": "pyout",
       "prompt_number": 25,
       "text": [
        "(u'\\u3046\\u3088\\u304f', ['adj-no;', 'n;'])"
       ]
      }
     ],
     "prompt_number": 25
    },
    {
     "cell_type": "markdown",
     "metadata": {},
     "source": [
      "In the lines below, we create a temp file for exploration."
     ]
    },
    {
     "cell_type": "code",
     "collapsed": false,
     "input": [
      "infile = open('../JMdict.xml')\n",
      "outfile = open('./JMdict_ext.xml', 'w')\n",
      "for i in range(1000):\n",
      "    outfile.write(infile.readline())"
     ],
     "language": "python",
     "metadata": {},
     "outputs": [],
     "prompt_number": 17
    },
    {
     "cell_type": "markdown",
     "metadata": {},
     "source": [
      "If we look at the dtd of the XML file we find the following types corresponding to verbs that we are looking for:"
     ]
    },
    {
     "cell_type": "raw",
     "metadata": {},
     "source": [
      "<!ENTITY v1 \"Ichidan verb\">\n",
      "<!ENTITY v2a-s \"Nidan verb with 'u' ending (archaic)\">\n",
      "<!ENTITY v4h \"Yodan verb with `hu/fu' ending (archaic)\">\n",
      "<!ENTITY v4r \"Yodan verb with `ru' ending (archaic)\">\n",
      "<!ENTITY v5 \"Godan verb (not completely classified)\">\n",
      "<!ENTITY v5aru \"Godan verb - -aru special class\">\n",
      "<!ENTITY v5b \"Godan verb with `bu' ending\">\n",
      "<!ENTITY v5g \"Godan verb with `gu' ending\">\n",
      "<!ENTITY v5k \"Godan verb with `ku' ending\">\n",
      "<!ENTITY v5k-s \"Godan verb - Iku/Yuku special class\">\n",
      "<!ENTITY v5m \"Godan verb with `mu' ending\">\n",
      "<!ENTITY v5n \"Godan verb with `nu' ending\">\n",
      "<!ENTITY v5r \"Godan verb with `ru' ending\">\n",
      "<!ENTITY v5r-i \"Godan verb with `ru' ending (irregular verb)\">\n",
      "<!ENTITY v5s \"Godan verb with `su' ending\">\n",
      "<!ENTITY v5t \"Godan verb with `tsu' ending\">\n",
      "<!ENTITY v5u \"Godan verb with `u' ending\">\n",
      "<!ENTITY v5u-s \"Godan verb with `u' ending (special class)\">\n",
      "<!ENTITY v5uru \"Godan verb - Uru old class verb (old form of Eru)\">\n",
      "<!ENTITY vz \"Ichidan verb - zuru verb (alternative form of -jiru verbs)\">\n",
      "<!ENTITY vi \"intransitive verb\">\n",
      "<!ENTITY vk \"Kuru verb - special class\">\n",
      "<!ENTITY vn \"irregular nu verb\">\n",
      "<!ENTITY vr \"irregular ru verb, plain form ends with -ri\">\n",
      "<!ENTITY vs \"noun or participle which takes the aux. verb suru\">\n",
      "<!ENTITY vs-c \"su verb - precursor to the modern suru\">\n",
      "<!ENTITY vs-s \"suru verb - special class\">\n",
      "<!ENTITY vs-i \"suru verb - irregular\">\n",
      "<!ENTITY vt \"transitive verb\">\n",
      "<!ENTITY v4k \"Yodan verb with `ku' ending (archaic)\">\n",
      "<!ENTITY v4g \"Yodan verb with `gu' ending (archaic)\">\n",
      "<!ENTITY v4s \"Yodan verb with `su' ending (archaic)\">\n",
      "<!ENTITY v4t \"Yodan verb with `tsu' ending (archaic)\">\n",
      "<!ENTITY v4n \"Yodan verb with `nu' ending (archaic)\">\n",
      "<!ENTITY v4b \"Yodan verb with `bu' ending (archaic)\">\n",
      "<!ENTITY v4m \"Yodan verb with `mu' ending (archaic)\">\n",
      "<!ENTITY v2k-k \"Nidan verb (upper class) with `ku' ending (archaic)\">\n",
      "<!ENTITY v2g-k \"Nidan verb (upper class) with `gu' ending (archaic)\">\n",
      "<!ENTITY v2t-k \"Nidan verb (upper class) with `tsu' ending (archaic)\">\n",
      "<!ENTITY v2d-k \"Nidan verb (upper class) with `dzu' ending (archaic)\">\n",
      "<!ENTITY v2h-k \"Nidan verb (upper class) with `hu/fu' ending (archaic)\">\n",
      "<!ENTITY v2b-k \"Nidan verb (upper class) with `bu' ending (archaic)\">\n",
      "<!ENTITY v2m-k \"Nidan verb (upper class) with `mu' ending (archaic)\">\n",
      "<!ENTITY v2y-k \"Nidan verb (upper class) with `yu' ending (archaic)\">\n",
      "<!ENTITY v2r-k \"Nidan verb (upper class) with `ru' ending (archaic)\">\n",
      "<!ENTITY v2k-s \"Nidan verb (lower class) with `ku' ending (archaic)\">\n",
      "<!ENTITY v2g-s \"Nidan verb (lower class) with `gu' ending (archaic)\">\n",
      "<!ENTITY v2s-s \"Nidan verb (lower class) with `su' ending (archaic)\">\n",
      "<!ENTITY v2z-s \"Nidan verb (lower class) with `zu' ending (archaic)\">\n",
      "<!ENTITY v2t-s \"Nidan verb (lower class) with `tsu' ending (archaic)\">\n",
      "<!ENTITY v2d-s \"Nidan verb (lower class) with `dzu' ending (archaic)\">\n",
      "<!ENTITY v2n-s \"Nidan verb (lower class) with `nu' ending (archaic)\">\n",
      "<!ENTITY v2h-s \"Nidan verb (lower class) with `hu/fu' ending (archaic)\">\n",
      "<!ENTITY v2b-s \"Nidan verb (lower class) with `bu' ending (archaic)\">\n",
      "<!ENTITY v2m-s \"Nidan verb (lower class) with `mu' ending (archaic)\">\n",
      "<!ENTITY v2y-s \"Nidan verb (lower class) with `yu' ending (archaic)\">\n",
      "<!ENTITY v2r-s \"Nidan verb (lower class) with `ru' ending (archaic)\">\n",
      "<!ENTITY v2w-s \"Nidan verb (lower class) with `u' ending and `we' conjugation (archaic)\">"
     ]
    },
    {
     "cell_type": "markdown",
     "metadata": {},
     "source": [
      "Now that we have this information, let's build a loop over the dictionary items and extract everything that contains a possible verb type:"
     ]
    },
    {
     "cell_type": "code",
     "collapsed": false,
     "input": [
      "tree = ET.ElementTree(file='../JMdict.xml')\n",
      "tree"
     ],
     "language": "python",
     "metadata": {},
     "outputs": [
      {
       "metadata": {},
       "output_type": "pyout",
       "prompt_number": 26,
       "text": [
        "<ElementTree at 0x1f18c5cc>"
       ]
      }
     ],
     "prompt_number": 26
    },
    {
     "cell_type": "code",
     "collapsed": false,
     "input": [
      "for elem in tree.getroot().findall('entry'):\n",
      "    break"
     ],
     "language": "python",
     "metadata": {},
     "outputs": [],
     "prompt_number": 27
    },
    {
     "cell_type": "code",
     "collapsed": false,
     "input": [
      "extract_information(elem)"
     ],
     "language": "python",
     "metadata": {},
     "outputs": [
      {
       "metadata": {},
       "output_type": "pyout",
       "prompt_number": 29,
       "text": [
        "(u'\\u30fd', ['noun (common) (futsuumeishi)'])"
       ]
      }
     ],
     "prompt_number": 29
    },
    {
     "cell_type": "code",
     "collapsed": false,
     "input": [
      "def disp_information(elem):\n",
      "    info = extract_information(elem)\n",
      "    print info[0], info[1]"
     ],
     "language": "python",
     "metadata": {},
     "outputs": [],
     "prompt_number": 30
    },
    {
     "cell_type": "code",
     "collapsed": false,
     "input": [
      "disp_information(elem)"
     ],
     "language": "python",
     "metadata": {},
     "outputs": [
      {
       "output_type": "stream",
       "stream": "stdout",
       "text": [
        "\u30fd ['noun (common) (futsuumeishi)']\n"
       ]
      }
     ],
     "prompt_number": 31
    },
    {
     "cell_type": "code",
     "collapsed": false,
     "input": [
      "verb_list = []\n",
      "for elem in tree.getroot().findall('entry'):\n",
      "    info = extract_information(elem)\n",
      "    if len(info[1])>= 1:\n",
      "        for item in info[1]:\n",
      "            if item.find('verb') != -1:\n",
      "                verb_list.append(info)\n",
      "                break\n",
      "                "
     ],
     "language": "python",
     "metadata": {},
     "outputs": [],
     "prompt_number": 32
    },
    {
     "cell_type": "code",
     "collapsed": false,
     "input": [
      "len(verb_list)"
     ],
     "language": "python",
     "metadata": {},
     "outputs": [
      {
       "metadata": {},
       "output_type": "pyout",
       "prompt_number": 33,
       "text": [
        "27068"
       ]
      }
     ],
     "prompt_number": 33
    },
    {
     "cell_type": "code",
     "collapsed": false,
     "input": [
      "verb_list[:10]"
     ],
     "language": "python",
     "metadata": {},
     "outputs": [
      {
       "metadata": {},
       "output_type": "pyout",
       "prompt_number": 34,
       "text": [
        "[(u'\\u3042\\u3052\\u3064\\u3089\\u3046',\n",
        "  [\"Godan verb with `u' ending\", 'transitive verb']),\n",
        " (u'\\u3042\\u3057\\u3089\\u3046',\n",
        "  [\"Godan verb with `u' ending\", 'transitive verb']),\n",
        " (u'\\u3042\\u3063\\u3055\\u308a',\n",
        "  [\"adverb taking the `to' particle\",\n",
        "   'noun or participle which takes the aux. verb suru']),\n",
        " (u'\\u3042\\u3063\\u3077\\u3042\\u3063\\u3077',\n",
        "  ['adverb (fukushi)',\n",
        "   'noun (common) (futsuumeishi)',\n",
        "   'noun or participle which takes the aux. verb suru']),\n",
        " (u'\\u3042\\u3076\\u308c\\u308b', ['Ichidan verb', 'intransitive verb']),\n",
        " (u'\\u3042\\u3084\\u3059', [\"Godan verb with `su' ending\", 'transitive verb']),\n",
        " (u'\\u3044\\u304b\\u3059', [\"Godan verb with `su' ending\", 'intransitive verb']),\n",
        " (u'\\u3044\\u304b\\u306b\\u3082',\n",
        "  ['adverb (fukushi)', 'interjection (kandoushi)']),\n",
        " (u'\\u3044\\u3056', ['adverb (fukushi)', 'interjection (kandoushi)']),\n",
        " (u'\\u3044\\u3058\\u3044\\u3058',\n",
        "  ['adverb (fukushi)',\n",
        "   \"adverb taking the `to' particle\",\n",
        "   'noun or participle which takes the aux. verb suru'])]"
       ]
      }
     ],
     "prompt_number": 34
    },
    {
     "cell_type": "code",
     "collapsed": false,
     "input": [
      "print verb_list[0][0][-2:]"
     ],
     "language": "python",
     "metadata": {},
     "outputs": [
      {
       "output_type": "stream",
       "stream": "stdout",
       "text": [
        "\u3089\u3046\n"
       ]
      }
     ],
     "prompt_number": 39
    },
    {
     "cell_type": "code",
     "collapsed": false,
     "input": [
      "def verb_type(verb_text):\n",
      "    types = [u'Ichidan', u'Nidan', u'Yodan', u'Godan']\n",
      "    for dan in types:\n",
      "        if verb_text.find(dan) != -1:\n",
      "            return dan\n",
      "    return None"
     ],
     "language": "python",
     "metadata": {},
     "outputs": [],
     "prompt_number": 68
    },
    {
     "cell_type": "code",
     "collapsed": false,
     "input": [
      "joined_str = \" \".join(verb_list[0][1])\n",
      "print verb_type(joined_str)\n",
      "joined_str.find('Godan')"
     ],
     "language": "python",
     "metadata": {},
     "outputs": [
      {
       "output_type": "stream",
       "stream": "stdout",
       "text": [
        "Godan\n"
       ]
      },
      {
       "metadata": {},
       "output_type": "pyout",
       "prompt_number": 69,
       "text": [
        "0"
       ]
      }
     ],
     "prompt_number": 69
    },
    {
     "cell_type": "code",
     "collapsed": false,
     "input": [
      "filtered_verb_list = []\n",
      "for verb_item in verb_list:\n",
      "    type = verb_type(\" \".join(verb_item[1]))\n",
      "    \n",
      "    if type != None:\n",
      "        filtered_verb_list.append((verb_item[0], type))"
     ],
     "language": "python",
     "metadata": {},
     "outputs": [],
     "prompt_number": 70
    },
    {
     "cell_type": "code",
     "collapsed": false,
     "input": [
      "len(filtered_verb_list)"
     ],
     "language": "python",
     "metadata": {},
     "outputs": [
      {
       "metadata": {},
       "output_type": "pyout",
       "prompt_number": 71,
       "text": [
        "10266"
       ]
      }
     ],
     "prompt_number": 71
    },
    {
     "cell_type": "code",
     "collapsed": false,
     "input": [
      "filtered_verb_list[:10]"
     ],
     "language": "python",
     "metadata": {},
     "outputs": [
      {
       "metadata": {},
       "output_type": "pyout",
       "prompt_number": 72,
       "text": [
        "[(u'\\u3042\\u3052\\u3064\\u3089\\u3046', u'Godan'),\n",
        " (u'\\u3042\\u3057\\u3089\\u3046', u'Godan'),\n",
        " (u'\\u3042\\u3076\\u308c\\u308b', u'Ichidan'),\n",
        " (u'\\u3042\\u3084\\u3059', u'Godan'),\n",
        " (u'\\u3044\\u304b\\u3059', u'Godan'),\n",
        " (u'\\u3044\\u3058\\u3051\\u308b', u'Ichidan'),\n",
        " (u'\\u3044\\u3058\\u308a\\u307e\\u308f\\u3059', u'Godan'),\n",
        " (u'\\u3044\\u3061\\u3083\\u3064\\u304f', u'Godan'),\n",
        " (u'\\u3044\\u306a\\u306a\\u304f', u'Godan'),\n",
        " (u'\\u3044\\u3073\\u308b', u'Godan')]"
       ]
      }
     ],
     "prompt_number": 72
    },
    {
     "cell_type": "heading",
     "level": 1,
     "metadata": {},
     "source": [
      "Verb types by last character "
     ]
    },
    {
     "cell_type": "code",
     "collapsed": false,
     "input": [
      "last_char_dict = {}\n",
      "for verb in filtered_verb_list:\n",
      "    last_char = verb[0][-1] \n",
      "    if last_char not in last_char_dict:\n",
      "        last_char_dict[last_char] = {verb[1] : 1}\n",
      "    else:\n",
      "        if verb[1] in last_char_dict[last_char]:\n",
      "            last_char_dict[last_char][verb[1]] += 1\n",
      "        else:\n",
      "            last_char_dict[last_char][verb[1]] = 1\n",
      "        "
     ],
     "language": "python",
     "metadata": {},
     "outputs": [],
     "prompt_number": 73
    },
    {
     "cell_type": "code",
     "collapsed": false,
     "input": [
      "last_char_dict"
     ],
     "language": "python",
     "metadata": {},
     "outputs": [
      {
       "metadata": {},
       "output_type": "pyout",
       "prompt_number": 74,
       "text": [
        "{u'\\u3046': {u'Godan': 719, u'Nidan': 6, u'Yodan': 4},\n",
        " u'\\u304f': {u'Godan': 911, u'Nidan': 2, u'Yodan': 4},\n",
        " u'\\u3050': {u'Godan': 137, u'Nidan': 2},\n",
        " u'\\u3059': {u'Godan': 1803, u'Nidan': 1, u'Yodan': 3},\n",
        " u'\\u305a': {u'Ichidan': 1, u'Nidan': 2},\n",
        " u'\\u3064': {u'Godan': 244, u'Nidan': 2, u'Yodan': 1},\n",
        " u'\\u306c': {u'Godan': 9, u'Nidan': 2},\n",
        " u'\\u3075': {u'Nidan': 1},\n",
        " u'\\u3076': {u'Godan': 102, u'Nidan': 2, u'Yodan': 2},\n",
        " u'\\u3080': {u'Godan': 596, u'Nidan': 4},\n",
        " u'\\u3086': {u'Nidan': 7},\n",
        " u'\\u308b': {u'Godan': 2267, u'Ichidan': 3414, u'Nidan': 7, u'Yodan': 11}}"
       ]
      }
     ],
     "prompt_number": 74
    },
    {
     "cell_type": "code",
     "collapsed": false,
     "input": [
      "for key in last_char_dict:\n",
      "    print key, last_char_dict[key]"
     ],
     "language": "python",
     "metadata": {},
     "outputs": [
      {
       "output_type": "stream",
       "stream": "stdout",
       "text": [
        "\u3080 {u'Nidan': 4, u'Godan': 596}\n",
        "\u3064 {u'Yodan': 1, u'Nidan': 2, u'Godan': 244}\n",
        "\u3046 {u'Yodan': 4, u'Nidan': 6, u'Godan': 719}\n",
        "\u308b {u'Yodan': 11, u'Nidan': 7, u'Ichidan': 3414, u'Godan': 2267}\n",
        "\u3086 {u'Nidan': 7}\n",
        "\u306c {u'Nidan': 2, u'Godan': 9}\n",
        "\u304f {u'Yodan': 4, u'Nidan': 2, u'Godan': 911}\n",
        "\u3050 {u'Nidan': 2, u'Godan': 137}\n",
        "\u3075 {u'Nidan': 1}\n",
        "\u3076 {u'Yodan': 2, u'Nidan': 2, u'Godan': 102}\n",
        "\u3059 {u'Yodan': 3, u'Nidan': 1, u'Godan': 1803}\n",
        "\u305a {u'Nidan': 2, u'Ichidan': 1}\n"
       ]
      }
     ],
     "prompt_number": 75
    },
    {
     "cell_type": "markdown",
     "metadata": {},
     "source": [
      "As we can see in this table, this confirms the first idea given by Tae Kim: if it doesn't end in ru it's a Godan verb (except for one zu Ichidan verb). Let's check for the second idea: if it ends in ru, let's look at the second before last hiragana.\n",
      "\n"
     ]
    },
    {
     "cell_type": "code",
     "collapsed": false,
     "input": [
      "second_last_char_dict = {}\n",
      "for verb in filtered_verb_list:\n",
      "    last_char = verb[0][-1] \n",
      "    if last_char == u'\u308b':\n",
      "        second_last_char = verb[0][-2] \n",
      "        if second_last_char not in second_last_char_dict:\n",
      "            second_last_char_dict[second_last_char] = {verb[1] : 1}\n",
      "        else:\n",
      "            if verb[1] in second_last_char_dict[second_last_char]:\n",
      "                second_last_char_dict[second_last_char][verb[1]] += 1\n",
      "            else:\n",
      "                second_last_char_dict[second_last_char][verb[1]] = 1"
     ],
     "language": "python",
     "metadata": {},
     "outputs": [],
     "prompt_number": 76
    },
    {
     "cell_type": "code",
     "collapsed": false,
     "input": [
      "for key in second_last_char_dict:\n",
      "    print key, second_last_char_dict[key]"
     ],
     "language": "python",
     "metadata": {},
     "outputs": [
      {
       "output_type": "stream",
       "stream": "stdout",
       "text": [
        "\u3083 {u'Yodan': 2, u'Godan': 5}\n",
        "\u308f {u'Godan': 130}\n",
        "\u30a7 {u'Godan': 1}\n",
        "\u30ab {u'Godan': 1}\n",
        "\u30af {u'Godan': 5}\n",
        "\u30b3 {u'Godan': 4}\n",
        "\u30b7 {u'Godan': 3}\n",
        "\u3044 {u'Ichidan': 32, u'Godan': 76}\n",
        "\u3048 {u'Yodan': 1, u'Ichidan': 398, u'Godan': 41}\n",
        "\u30cb {u'Godan': 3}\n",
        "\u304c {u'Nidan': 1, u'Godan': 162}\n",
        "\u3050 {u'Godan': 25}\n",
        "\u30d3 {u'Godan': 1}\n",
        "\u3054 {u'Nidan': 1, u'Godan': 3}\n",
        "\u3058 {u'Ichidan': 104, u'Godan': 21}\n",
        "\u305c {u'Ichidan': 11}\n",
        "\u30df {u'Godan': 1}\n",
        "\u3060 {u'Nidan': 1, u'Godan': 18}\n",
        "\u30e3 {u'Godan': 1}\n",
        "\u3064 {u'Godan': 34}\n",
        "\u30e7 {u'Godan': 1}\n",
        "\u3068 {u'Godan': 161}\n",
        "\u306c {u'Godan': 6}\n",
        "\u3070 {u'Godan': 45}\n",
        "\u3078 {u'Ichidan': 3, u'Godan': 5}\n",
        "\u307c {u'Godan': 32}\n",
        "\u3080 {u'Godan': 13}\n",
        "\u3084 {u'Godan': 28}\n",
        "\u3088 {u'Godan': 36}\n",
        "\u308c {u'Ichidan': 548, u'Godan': 1}\n",
        "\u30b0 {u'Godan': 5}\n",
        "\u30b8 {u'Godan': 2}\n",
        "\u30c4 {u'Godan': 1}\n",
        "\u30c8 {u'Godan': 2}\n",
        "\u304b {u'Yodan': 2, u'Godan': 149}\n",
        "\u304f {u'Godan': 69}\n",
        "\u30d0 {u'Godan': 2}\n",
        "\u3053 {u'Godan': 35}\n",
        "\u30d4 {u'Godan': 2}\n",
        "\u3057 {u'Ichidan': 1, u'Godan': 37}\n",
        "\u305b {u'Ichidan': 297, u'Godan': 9}\n",
        "\u30dc {u'Godan': 2}\n",
        "\u305f {u'Godan': 72}\n",
        "\u30e0 {u'Godan': 2}\n",
        "\u3067 {u'Ichidan': 79, u'Godan': 1}\n",
        "\u306b {u'Ichidan': 3}\n",
        "\u30ec {u'Ichidan': 2}\n",
        "\u306f {u'Yodan': 1, u'Godan': 44}\n",
        "\u3073 {u'Ichidan': 40, u'Godan': 7}\n",
        "\u307b {u'Godan': 6}\n",
        "\u307f {u'Ichidan': 61}\n",
        "\u3081 {u'Ichidan': 470, u'Godan': 7}\n",
        "\u3089 {u'Ichidan': 1}\n",
        "\u30ad {u'Godan': 2}\n",
        "\u30b1 {u'Godan': 1}\n",
        "\u30b9 {u'Godan': 4}\n",
        "\u30c1 {u'Godan': 2}\n",
        "\u3042 {u'Yodan': 1, u'Godan': 28}\n",
        "\u3046 {u'Godan': 13}\n",
        "\u30c9 {u'Godan': 1}\n",
        "\u304a {u'Godan': 45}\n",
        "\u304e {u'Ichidan': 29, u'Godan': 40}\n",
        "\u30d1 {u'Godan': 1}\n",
        "\u3052 {u'Ichidan': 251, u'Godan': 5}\n",
        "\u30d5 {u'Godan': 2}\n",
        "\u3056 {u'Yodan': 2, u'Godan': 11}\n",
        "\u305a {u'Ichidan': 79, u'Godan': 21}\n",
        "\u305e {u'Godan': 3}\n",
        "\u30e1 {u'Ichidan': 1}\n",
        "\u3066 {u'Ichidan': 185, u'Godan': 3}\n",
        "\u306a {u'Nidan': 2, u'Godan': 147}\n",
        "\u30ed {u'Godan': 3}\n",
        "\u306e {u'Godan': 31}\n",
        "\u3072 {u'Ichidan': 3, u'Godan': 4}\n",
        "\u3076 {u'Nidan': 1, u'Godan': 70}\n",
        "\u307e {u'Yodan': 2, u'Godan': 147}\n",
        "\u3082 {u'Godan': 43}\n",
        "\u3086 {u'Godan': 1}\n",
        "\u308a {u'Ichidan': 24, u'Godan': 2}\n",
        "\u30ba {u'Godan': 1}\n",
        "\u30c6 {u'Godan': 2}\n",
        "\u30ca {u'Godan': 1}\n",
        "\u304d {u'Ichidan': 30, u'Godan': 108}\n",
        "\u3051 {u'Ichidan': 630, u'Godan': 22}\n",
        "\u3055 {u'Godan': 58}\n",
        "\u30d6 {u'Godan': 6}\n",
        "\u3059 {u'Godan': 16}\n",
        "\u305d {u'Nidan': 1, u'Godan': 10}\n",
        "\u3061 {u'Ichidan': 38, u'Godan': 9}\n",
        "\u30e2 {u'Godan': 3}\n",
        "\u3065 {u'Godan': 2}\n",
        "\u3069 {u'Godan': 35}\n",
        "\u306d {u'Ichidan': 61, u'Godan': 15}\n",
        "\u3071 {u'Godan': 5}\n",
        "\u3075 {u'Godan': 18}\n",
        "\u3079 {u'Ichidan': 33, u'Godan': 9}\n"
       ]
      }
     ],
     "prompt_number": 77
    },
    {
     "cell_type": "markdown",
     "metadata": {},
     "source": [
      "This still needs a little sorting!"
     ]
    }
   ],
   "metadata": {}
  }
 ]
}