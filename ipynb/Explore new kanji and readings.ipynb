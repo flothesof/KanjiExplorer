{
 "metadata": {
  "name": ""
 },
 "nbformat": 3,
 "nbformat_minor": 0,
 "worksheets": [
  {
   "cells": [
    {
     "cell_type": "markdown",
     "metadata": {},
     "source": [
      "First of all, let's use the existing codebase."
     ]
    },
    {
     "cell_type": "code",
     "collapsed": false,
     "input": [
      "import os\n",
      "import sys\n",
      "sys.path.insert(0, os.path.abspath(os.path.join(os.getcwd(), os.pardir)))"
     ],
     "language": "python",
     "metadata": {},
     "outputs": [],
     "prompt_number": 1
    },
    {
     "cell_type": "markdown",
     "metadata": {},
     "source": [
      "Let's load an instance of the dictionary, then the kanji dictionary."
     ]
    },
    {
     "cell_type": "code",
     "collapsed": false,
     "input": [
      "%%time\n",
      "from main_window import DictionaryDB\n",
      "filename = os.path.abspath(os.path.join(os.getcwd(), os.pardir, 'JMdict.xml'))\n",
      "dict_db = DictionaryDB(filename)"
     ],
     "language": "python",
     "metadata": {},
     "outputs": [
      {
       "output_type": "stream",
       "stream": "stdout",
       "text": [
        "Wall time: 2.53 s\n"
       ]
      }
     ],
     "prompt_number": 2
    },
    {
     "cell_type": "code",
     "collapsed": false,
     "input": [
      "%%time \n",
      "from main_window import KanjiDB\n",
      "filename = os.path.abspath(os.path.join(os.getcwd(), os.pardir, 'kanjidic2.xml'))\n",
      "kanji_db = KanjiDB(filename)"
     ],
     "language": "python",
     "metadata": {},
     "outputs": [
      {
       "output_type": "stream",
       "stream": "stdout",
       "text": [
        "Wall time: 437 ms\n"
       ]
      }
     ],
     "prompt_number": 3
    },
    {
     "cell_type": "markdown",
     "metadata": {},
     "source": [
      "Now, let's start with a given kanji and query derivative kanjis."
     ]
    },
    {
     "cell_type": "code",
     "collapsed": false,
     "input": [
      "class Asker():\n",
      "    def __init__(self, start_kanji=u'\u8eca'):\n",
      "        self.current_kanji = start_kanji\n",
      "        self.known_kanji = [start_kanji]\n",
      "        self.asked = []\n",
      "    \n",
      "    def get_new_compound(self, number=1):\n",
      "        candidates = dict_db.findWordsContainingExpression(self.current_kanji)\n",
      "        rankings = map(lambda compound: sum([character in self.known_kanji for character in compound]), candidates)\n",
      "        best_candidates = sorted(zip(candidates, rankings), key=lambda item: item[1])\n",
      "        return best_candidates[-number:]\n",
      "    "
     ],
     "language": "python",
     "metadata": {},
     "outputs": [],
     "prompt_number": 15
    },
    {
     "cell_type": "code",
     "collapsed": false,
     "input": [
      "asker = Asker()\n",
      "print asker.get_new_compound()[0][0]"
     ],
     "language": "python",
     "metadata": {},
     "outputs": [
      {
       "output_type": "stream",
       "stream": "stdout",
       "text": [
        "\u524d\u8eca\u306e\u8986\u308b\u306f\u5f8c\u8eca\u306e\u6212\u3081\n"
       ]
      }
     ],
     "prompt_number": 18
    },
    {
     "cell_type": "code",
     "collapsed": false,
     "input": [
      "for item in [item[0] for item in asker.get_new_compound(5)]:\n",
      "    print item"
     ],
     "language": "python",
     "metadata": {},
     "outputs": [
      {
       "output_type": "stream",
       "stream": "stdout",
       "text": [
        "\u8eca\u793e\u4f1a\n",
        "\u8eca\n",
        "\u8eca\u50e7\n",
        "\u8eca\u9aa8\u9271\n",
        "\u524d\u8eca\u306e\u8986\u308b\u306f\u5f8c\u8eca\u306e\u6212\u3081\n"
       ]
      }
     ],
     "prompt_number": 20
    },
    {
     "cell_type": "markdown",
     "metadata": {},
     "source": [
      "The reason this kanji comes up is that it contains the kanji \u8eca twice. So by our previous measure of similarity, this is good. What happens if I now know this compound? Well, all kanji inside get added to the master known list and thus have an influence on the next word."
     ]
    },
    {
     "cell_type": "code",
     "collapsed": false,
     "input": [],
     "language": "python",
     "metadata": {},
     "outputs": []
    }
   ],
   "metadata": {}
  }
 ]
}