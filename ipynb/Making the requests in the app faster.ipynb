{
 "metadata": {
  "name": ""
 },
 "nbformat": 3,
 "nbformat_minor": 0,
 "worksheets": [
  {
   "cells": [
    {
     "cell_type": "markdown",
     "metadata": {},
     "source": [
      "One of the things I remarked is that my dictionary app is slow. It's not super slow, but still. So, how to make it faster? First, we're gonna check what takes time in the lookup process. Second, we're gonna improve the speed."
     ]
    },
    {
     "cell_type": "heading",
     "level": 1,
     "metadata": {},
     "source": [
      "Checking what takes time"
     ]
    },
    {
     "cell_type": "markdown",
     "metadata": {},
     "source": [
      "The sample request we're going to examine here is the search for the word \u8eca.\n",
      "\n",
      "Our application works in the following way: first it instantiates a DictionaryDB and a KanjiDB, then pushes requests to it. Let's time these instantiations first.\n",
      "\n",
      "Side note: while trying to do this, I had to import a class from a module in another directory. This is not supported by default in Python, but there is a way to do it as described in [http://stackoverflow.com/questions/4383571/importing-files-from-different-folder-in-python](http://stackoverflow.com/questions/4383571/importing-files-from-different-folder-in-python).\n",
      "\n",
      "I also had to construct the parent directory name, for which I found an answer here at [http://stackoverflow.com/questions/2860153/get-parent-directory-in-python](http://stackoverflow.com/questions/2860153/get-parent-directory-in-python)."
     ]
    },
    {
     "cell_type": "code",
     "collapsed": false,
     "input": [
      "import os\n",
      "import sys\n",
      "sys.path.insert(0, os.path.abspath(os.path.join(os.getcwd(), os.pardir)))"
     ],
     "language": "python",
     "metadata": {},
     "outputs": [],
     "prompt_number": 1
    },
    {
     "cell_type": "code",
     "collapsed": false,
     "input": [
      "%%time\n",
      "from main_window import DictionaryDB\n",
      "filename = os.path.abspath(os.path.join(os.getcwd(), os.pardir, 'JMdict.xml'))\n",
      "dict_db = DictionaryDB(filename)"
     ],
     "language": "python",
     "metadata": {},
     "outputs": [
      {
       "output_type": "stream",
       "stream": "stdout",
       "text": [
        "Wall time: 2.58 s\n"
       ]
      }
     ],
     "prompt_number": 2
    },
    {
     "cell_type": "markdown",
     "metadata": {},
     "source": [
      "We can do the same thing with the Kanji dictionary."
     ]
    },
    {
     "cell_type": "code",
     "collapsed": false,
     "input": [
      "%%time \n",
      "from main_window import KanjiDB\n",
      "filename = os.path.abspath(os.path.join(os.getcwd(), os.pardir, 'kanjidic2.xml'))\n",
      "kanji_db = KanjiDB(filename)"
     ],
     "language": "python",
     "metadata": {},
     "outputs": [
      {
       "output_type": "stream",
       "stream": "stdout",
       "text": [
        "Wall time: 381 ms\n"
       ]
      }
     ],
     "prompt_number": 4
    },
    {
     "cell_type": "markdown",
     "metadata": {},
     "source": [
      "As we can see, parsing the dictionary takes time. What about looking up a word,\u3000\u8eca for instance?"
     ]
    },
    {
     "cell_type": "code",
     "collapsed": false,
     "input": [
      "%%timeit\n",
      "lookup_word = u\"\u8eca\"\n",
      "filtered_words = dict_db.findWordsContainingExpression(lookup_word)"
     ],
     "language": "python",
     "metadata": {},
     "outputs": [
      {
       "output_type": "stream",
       "stream": "stdout",
       "text": [
        "10 loops, best of 3: 31.5 ms per loop\n"
       ]
      }
     ],
     "prompt_number": 12
    },
    {
     "cell_type": "code",
     "collapsed": false,
     "input": [
      "%%timeit\n",
      "kanji_db.getKanjiDetails(lookup_word)"
     ],
     "language": "python",
     "metadata": {},
     "outputs": [
      {
       "output_type": "stream",
       "stream": "stdout",
       "text": [
        "10000 loops, best of 3: 54.8 \u00b5s per loop\n"
       ]
      }
     ],
     "prompt_number": 11
    },
    {
     "cell_type": "markdown",
     "metadata": {},
     "source": [
      "At this point I'm a little surprised, because it looks like the lookup is extremely fast. However, the app also queries the details for all the words involved. Let's see how long that takes."
     ]
    },
    {
     "cell_type": "code",
     "collapsed": false,
     "input": [
      "%%time\n",
      "commonness = dict_db.areCommonWordsTraversingMethod(filtered_words)"
     ],
     "language": "python",
     "metadata": {},
     "outputs": [
      {
       "output_type": "stream",
       "stream": "stdout",
       "text": [
        "Wall time: 3.04 s\n"
       ]
      }
     ],
     "prompt_number": 13
    },
    {
     "cell_type": "markdown",
     "metadata": {},
     "source": [
      "We have a suspect! Looking up if words are common takes too long! Why?"
     ]
    },
    {
     "cell_type": "raw",
     "metadata": {},
     "source": [
      "def areCommonWordsTraversingMethod(self, word_list):\n",
      "        \"\"\"returns a boolean list telling if a given word in a word list\n",
      "        is common while traversing the dictionary tree only once \"\"\"\n",
      "        found = [False for word in word_list]\n",
      "        for elem in self.tree.findall('entry/k_ele'):\n",
      "            if elem.find('keb').text in word_list:\n",
      "                if elem.find('ke_pri') != None:\n",
      "                    found[word_list.index(elem.find('keb').text)] = True\n",
      "        return found"
     ]
    },
    {
     "cell_type": "markdown",
     "metadata": {},
     "source": [
      "As can be seen from the code above, it takes a long time because we're traversing the whole dictionary tree to get the information we want! Let's see if we can actually speed this up. "
     ]
    },
    {
     "cell_type": "heading",
     "level": 1,
     "metadata": {},
     "source": [
      "Making it faster"
     ]
    },
    {
     "cell_type": "markdown",
     "metadata": {},
     "source": [
      "Options we have:\n",
      "\n",
      "- generate the commonness for the whole dictionary at startup\n",
      "- put less information in the dictionary data file we're using so that the lookup is (hopefully) quicker. This means building a new stripped down JMDict\n",
      "\n",
      "Let's explore the first option. First let's build a new commonness list at startup."
     ]
    },
    {
     "cell_type": "code",
     "collapsed": false,
     "input": [
      "import xml.etree.cElementTree as ET\n",
      "\n",
      "class DictionaryDB(object):\n",
      "    def __init__(self, filename='JMdict.xml'):\n",
      "        self.tree = ET.ElementTree(file=filename)\n",
      "        self.word_entries = self.tree.getroot().findall('entry/k_ele/keb')\n",
      "        self.words = [entry.text for entry in self.word_entries]\n",
      "        self.commonness = self.generateCommonnessList()\n",
      "    \n",
      "    def findWordsContainingExpression(self, kanji_expression):\n",
      "        return filter(lambda expression: kanji_expression in expression, \n",
      "                      self.words)\n",
      "\n",
      "    def isCommonWord(self, word):\n",
      "        found = False\n",
      "        for elem in self.tree.findall('entry/k_ele'):\n",
      "            if elem.find('keb').text == word:\n",
      "                found = True\n",
      "                break\n",
      "        if found:\n",
      "            if elem.find('ke_pri') != None:\n",
      "                return True\n",
      "            else:\n",
      "                return False\n",
      "        else:\n",
      "            return False\n",
      "    \n",
      "    def generateCommonnessList(self):\n",
      "        commonness_list = []\n",
      "        for elem in self.tree.findall('entry/k_ele'):\n",
      "            if elem.find('ke_pri') != None:\n",
      "                commonness_list.append(True)\n",
      "            else:\n",
      "                commonness_list.append(False)\n",
      "        return commonness_list\n",
      "        \n",
      "    def areCommonWordsTraversingMethod(self, word_list):\n",
      "        \"\"\"returns a boolean list telling if a given word in a word list\n",
      "        is common while traversing the dictionary tree only once \"\"\"\n",
      "        found = [False for word in word_list]\n",
      "        for elem in self.tree.findall('entry/k_ele'):\n",
      "            if elem.find('keb').text in word_list:\n",
      "                if elem.find('ke_pri') != None:\n",
      "                    found[word_list.index(elem.find('keb').text)] = True\n",
      "        return found\n",
      "    \n",
      "    def areCommonWords(self, word_list):\n",
      "        \"\"\"returns a boolean list telling if a given word in a word list\n",
      "        is common while looking up the word in a pre-generated list\"\"\"\n",
      "        commons = []        \n",
      "        for word in word_list:\n",
      "            index = self.words.index(word)\n",
      "            commons.append(self.commonness[index])\n",
      "        return commons\n",
      "    \n",
      "    def getDefinition(self, kanji_expression):\n",
      "        kanji_expression = unicode(kanji_expression) \n",
      "        for elem in self.tree.findall('entry'):\n",
      "            search = elem.find('k_ele/keb')\n",
      "            if search != None:\n",
      "                if search.text == kanji_expression:\n",
      "                    reading = elem.find('r_ele/reb').text\n",
      "                    senses = elem.findall('sense/gloss')\n",
      "                    senses = filter(\n",
      "                        lambda item: item.attrib.items()[0][1] == 'eng', senses)\n",
      "                    senses = [sense.text for sense in senses]\n",
      "                    return (reading, senses)"
     ],
     "language": "python",
     "metadata": {},
     "outputs": [],
     "prompt_number": 16
    },
    {
     "cell_type": "markdown",
     "metadata": {},
     "source": [
      "Now, let's test this."
     ]
    },
    {
     "cell_type": "code",
     "collapsed": false,
     "input": [
      "%%time \n",
      "filename = os.path.abspath(os.path.join(os.getcwd(), os.pardir, 'JMdict.xml'))\n",
      "dict_db = DictionaryDB(filename)"
     ],
     "language": "python",
     "metadata": {},
     "outputs": [
      {
       "output_type": "stream",
       "stream": "stdout",
       "text": [
        "Wall time: 2.68 s\n"
       ]
      }
     ],
     "prompt_number": 17
    },
    {
     "cell_type": "markdown",
     "metadata": {},
     "source": [
      "As we can see, it takes a whole second longer to generate the additional boolean list. What about the expected lookup improvement?"
     ]
    },
    {
     "cell_type": "code",
     "collapsed": false,
     "input": [
      "%%time\n",
      "lookup_word = u\"\u8eca\"\n",
      "filtered_words = dict_db.findWordsContainingExpression(lookup_word)"
     ],
     "language": "python",
     "metadata": {},
     "outputs": [
      {
       "output_type": "stream",
       "stream": "stdout",
       "text": [
        "Wall time: 43 ms\n"
       ]
      }
     ],
     "prompt_number": 19
    },
    {
     "cell_type": "code",
     "collapsed": false,
     "input": [
      "%%time \n",
      "is_common = filter(lambda expression: expression[0] in filtered_words, \n",
      "                      zip(dict_db.words, dict_db.commonness))"
     ],
     "language": "python",
     "metadata": {},
     "outputs": [
      {
       "output_type": "stream",
       "stream": "stdout",
       "text": [
        "Wall time: 2.98 s\n"
       ]
      }
     ],
     "prompt_number": 20
    },
    {
     "cell_type": "markdown",
     "metadata": {},
     "source": [
      "As we can see, this is still not helping. What about building a dictionary indexed by the words to eliminate the lookup and looping?"
     ]
    },
    {
     "cell_type": "code",
     "collapsed": false,
     "input": [
      "%%time \n",
      "data_dict = dict(zip(dict_db.words, dict_db.commonness))"
     ],
     "language": "python",
     "metadata": {},
     "outputs": [
      {
       "output_type": "stream",
       "stream": "stdout",
       "text": [
        "Wall time: 79 ms\n"
       ]
      }
     ],
     "prompt_number": 21
    },
    {
     "cell_type": "code",
     "collapsed": false,
     "input": [
      "%%time\n",
      "commonness = [data_dict[word] for word in filtered_words]"
     ],
     "language": "python",
     "metadata": {},
     "outputs": [
      {
       "output_type": "stream",
       "stream": "stdout",
       "text": [
        "Wall time: 0 ns\n"
       ]
      }
     ],
     "prompt_number": 22
    },
    {
     "cell_type": "markdown",
     "metadata": {},
     "source": [
      "Now that looks like a good alternative! Let's implement this!"
     ]
    },
    {
     "cell_type": "code",
     "collapsed": false,
     "input": [
      "class DictionaryDB(object):\n",
      "    def __init__(self, filename='JMdict.xml'):\n",
      "        self.tree = ET.ElementTree(file=filename)\n",
      "        self.word_entries = self.tree.getroot().findall('entry/k_ele/keb')\n",
      "        self.words = [entry.text for entry in self.word_entries]\n",
      "        self.commonness_dict = self.generateCommonnessDict()\n",
      "    \n",
      "    def findWordsContainingExpression(self, kanji_expression):\n",
      "        return filter(lambda expression: kanji_expression in expression, \n",
      "                      self.words)\n",
      "\n",
      "    def isCommonWord(self, word):\n",
      "        found = False\n",
      "        for elem in self.tree.findall('entry/k_ele'):\n",
      "            if elem.find('keb').text == word:\n",
      "                found = True\n",
      "                break\n",
      "        if found:\n",
      "            if elem.find('ke_pri') != None:\n",
      "                return True\n",
      "            else:\n",
      "                return False\n",
      "        else:\n",
      "            return False\n",
      "    \n",
      "    def generateCommonnessDict(self):\n",
      "        commonness_list = []\n",
      "        for elem in self.tree.findall('entry/k_ele'):\n",
      "            if elem.find('ke_pri') != None:\n",
      "                commonness_list.append(True)\n",
      "            else:\n",
      "                commonness_list.append(False)\n",
      "        return dict(zip(self.words, commonness_list))\n",
      "        \n",
      "    def areCommonWordsTraversingMethod(self, word_list):\n",
      "        \"\"\"returns a boolean list telling if a given word in a word list\n",
      "        is common while traversing the dictionary tree only once \"\"\"\n",
      "        found = [False for word in word_list]\n",
      "        for elem in self.tree.findall('entry/k_ele'):\n",
      "            if elem.find('keb').text in word_list:\n",
      "                if elem.find('ke_pri') != None:\n",
      "                    found[word_list.index(elem.find('keb').text)] = True\n",
      "        return found\n",
      "    \n",
      "    def areCommonWords(self, word_list):\n",
      "        \"\"\"returns a boolean list telling if a given word in a word list\n",
      "        is common while looking up the word in a pre-generated dictionary\"\"\"\n",
      "        return [self.commonness_dict[word] for word in word_list]\n",
      "    \n",
      "    def getDefinition(self, kanji_expression):\n",
      "        kanji_expression = unicode(kanji_expression) \n",
      "        for elem in self.tree.findall('entry'):\n",
      "            search = elem.find('k_ele/keb')\n",
      "            if search != None:\n",
      "                if search.text == kanji_expression:\n",
      "                    reading = elem.find('r_ele/reb').text\n",
      "                    senses = elem.findall('sense/gloss')\n",
      "                    senses = filter(\n",
      "                        lambda item: item.attrib.items()[0][1] == 'eng', senses)\n",
      "                    senses = [sense.text for sense in senses]\n",
      "                    return (reading, senses)"
     ],
     "language": "python",
     "metadata": {},
     "outputs": [],
     "prompt_number": 26
    },
    {
     "cell_type": "code",
     "collapsed": false,
     "input": [
      "%%time\n",
      "dict_db = DictionaryDB(filename)"
     ],
     "language": "python",
     "metadata": {},
     "outputs": [
      {
       "output_type": "stream",
       "stream": "stdout",
       "text": [
        "Wall time: 2.64 s\n"
       ]
      }
     ],
     "prompt_number": 27
    },
    {
     "cell_type": "code",
     "collapsed": false,
     "input": [
      "%%time\n",
      "lookup_word = u\"\u8eca\"\n",
      "filtered_words = dict_db.findWordsContainingExpression(lookup_word)"
     ],
     "language": "python",
     "metadata": {},
     "outputs": [
      {
       "output_type": "stream",
       "stream": "stdout",
       "text": [
        "Wall time: 37 ms\n"
       ]
      }
     ],
     "prompt_number": 28
    },
    {
     "cell_type": "code",
     "collapsed": false,
     "input": [
      "%%time\n",
      "commonness = dict_db.areCommonWords(filtered_words)"
     ],
     "language": "python",
     "metadata": {},
     "outputs": [
      {
       "output_type": "stream",
       "stream": "stdout",
       "text": [
        "Wall time: 0 ns\n"
       ]
      }
     ],
     "prompt_number": 29
    },
    {
     "cell_type": "markdown",
     "metadata": {},
     "source": [
      "Great improvement! "
     ]
    },
    {
     "cell_type": "heading",
     "level": 1,
     "metadata": {},
     "source": [
      "Other performance tests"
     ]
    },
    {
     "cell_type": "markdown",
     "metadata": {},
     "source": [
      "To replicate performance tests, we can define a testing function."
     ]
    },
    {
     "cell_type": "code",
     "collapsed": false,
     "input": [
      "def lookup_expressions_and_commonness(expression):\n",
      "    words = dict_db.findWordsContainingExpression(expression)\n",
      "    commonness = dict_db.areCommonWords(words)\n"
     ],
     "language": "python",
     "metadata": {},
     "outputs": [],
     "prompt_number": 30
    },
    {
     "cell_type": "code",
     "collapsed": false,
     "input": [
      "%%time\n",
      "lookup_expressions_and_commonness(u\"\u5c0f\u725b\")"
     ],
     "language": "python",
     "metadata": {},
     "outputs": [
      {
       "output_type": "stream",
       "stream": "stdout",
       "text": [
        "Wall time: 43 ms\n"
       ]
      }
     ],
     "prompt_number": 31
    },
    {
     "cell_type": "code",
     "collapsed": false,
     "input": [
      "%%time\n",
      "lookup_expressions_and_commonness(u'\u6388\u696d')"
     ],
     "language": "python",
     "metadata": {},
     "outputs": [
      {
       "output_type": "stream",
       "stream": "stdout",
       "text": [
        "Wall time: 44 ms\n"
       ]
      }
     ],
     "prompt_number": 32
    }
   ],
   "metadata": {}
  }
 ]
}